{
 "cells": [
  {
   "cell_type": "code",
   "execution_count": 5,
   "id": "cb29460f-87e2-40e1-930b-6176f6d97160",
   "metadata": {},
   "outputs": [],
   "source": [
    "import numpy as np\n",
    "from tabulate import tabulate\n"
   ]
  },
  {
   "cell_type": "markdown",
   "id": "51107c82-71ca-4dfd-885a-d47947b4f0aa",
   "metadata": {},
   "source": [
    "Defines sin(x) and cos(x) as sinfunction(x) and cosfunction(x) respectively. "
   ]
  },
  {
   "cell_type": "code",
   "execution_count": 6,
   "id": "4b2bbe08-7f5e-43f0-93cd-a9045f73e9d5",
   "metadata": {},
   "outputs": [],
   "source": [
    "def sinfunction(x):\n",
    "    return np.sin(x)\n",
    "\n",
    "def cosfunction(x):\n",
    "    return np.cos(x)"
   ]
  },
  {
   "cell_type": "markdown",
   "id": "f9c96484-fac9-4d9c-84a3-5ba3c1f5d0ef",
   "metadata": {},
   "source": [
    "The following creates an array of 1000 x values between 0 and 2pi and inputs them into the sin and cos functions labeled above. "
   ]
  },
  {
   "cell_type": "code",
   "execution_count": 7,
   "id": "6ee5f4e3-444c-4026-8fcf-a7019c26d5db",
   "metadata": {},
   "outputs": [],
   "source": [
    "xvalues = np.linspace(0,2,1000)\n",
    "sinvalues = sinfunction(x_values)\n",
    "cosvalues = cosfunction(x_values)"
   ]
  },
  {
   "cell_type": "markdown",
   "id": "27e76f8b-e850-4d0d-a420-3ed1550236b5",
   "metadata": {},
   "source": [
    "Uses a for loop and append to create a table that is 10 rows, using the above x values and sin/cos functions."
   ]
  },
  {
   "cell_type": "code",
   "execution_count": 8,
   "id": "e016422c-b959-44a1-baaf-3913e69d246c",
   "metadata": {},
   "outputs": [
    {
     "name": "stdout",
     "output_type": "stream",
     "text": [
      "     x     sin     cos\n",
      "------  ------  ------\n",
      "0.0000  0.0000  1.0000\n",
      "0.0020  0.0020  1.0000\n",
      "0.0040  0.0040  1.0000\n",
      "0.0060  0.0060  1.0000\n",
      "0.0080  0.0080  1.0000\n",
      "0.0100  0.0100  0.9999\n",
      "0.0120  0.0120  0.9999\n",
      "0.0140  0.0140  0.9999\n",
      "0.0160  0.0160  0.9999\n",
      "0.0180  0.0180  0.9998\n"
     ]
    }
   ],
   "source": [
    "table = []\n",
    "for i in range(10):\n",
    "    table.append([xvalues[i], sinvalues[i], cosvalues[i]])\n",
    "\n",
    "headers= [\"x\", \"sin\", \"cos\"]\n",
    "print(tabulate(table, headers = headers, floatfmt = \".4f\"))"
   ]
  }
 ],
 "metadata": {
  "kernelspec": {
   "display_name": "Python 3 (ipykernel)",
   "language": "python",
   "name": "python3"
  },
  "language_info": {
   "codemirror_mode": {
    "name": "ipython",
    "version": 3
   },
   "file_extension": ".py",
   "mimetype": "text/x-python",
   "name": "python",
   "nbconvert_exporter": "python",
   "pygments_lexer": "ipython3",
   "version": "3.13.2"
  }
 },
 "nbformat": 4,
 "nbformat_minor": 5
}
