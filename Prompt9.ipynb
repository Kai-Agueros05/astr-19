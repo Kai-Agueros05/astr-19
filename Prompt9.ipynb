{
 "cells": [
  {
   "cell_type": "code",
   "execution_count": 1,
   "id": "bf2f34d8-5020-458c-b057-a1389b3b1207",
   "metadata": {},
   "outputs": [],
   "source": [
    "import numpy as np\n",
    "import matplotlib.pyplot as plt"
   ]
  },
  {
   "cell_type": "code",
   "execution_count": 2,
   "id": "f5c460a2-f317-4303-9c83-319189caab2d",
   "metadata": {},
   "outputs": [],
   "source": [
    "r_numbers = np.random.uniform(low = 0.0, high = 1.0, size = 1000)"
   ]
  },
  {
   "cell_type": "code",
   "execution_count": 3,
   "id": "9614e20a-c2e9-4760-8a67-fcb4ab35f723",
   "metadata": {},
   "outputs": [
    {
     "ename": "ValueError",
     "evalue": "The truth value of an array with more than one element is ambiguous. Use a.any() or a.all()",
     "output_type": "error",
     "traceback": [
      "\u001b[31m---------------------------------------------------------------------------\u001b[39m",
      "\u001b[31mValueError\u001b[39m                                Traceback (most recent call last)",
      "\u001b[36mCell\u001b[39m\u001b[36m \u001b[39m\u001b[32mIn[3]\u001b[39m\u001b[32m, line 5\u001b[39m\n\u001b[32m      2\u001b[39m histmin = np.floor(r_numbers)\n\u001b[32m      3\u001b[39m histmax = np.ceil(r_numbers)\n\u001b[32m----> \u001b[39m\u001b[32m5\u001b[39m bins = \u001b[43mnp\u001b[49m\u001b[43m.\u001b[49m\u001b[43marange\u001b[49m\u001b[43m(\u001b[49m\u001b[43mhistmin\u001b[49m\u001b[43m,\u001b[49m\u001b[43m \u001b[49m\u001b[43mhistmax\u001b[49m\u001b[43m,\u001b[49m\u001b[43m \u001b[49m\u001b[43mwidth\u001b[49m\u001b[43m)\u001b[49m\n\u001b[32m      7\u001b[39m plt.hist(r_numbers, bins=bins, alpha = \u001b[32m0.5\u001b[39m, edgecolor = \u001b[33m'\u001b[39m\u001b[33mblack\u001b[39m\u001b[33m'\u001b[39m)\n\u001b[32m      8\u001b[39m plt.xlabel(\u001b[33m'\u001b[39m\u001b[33mnumbers\u001b[39m\u001b[33m'\u001b[39m)\n",
      "\u001b[31mValueError\u001b[39m: The truth value of an array with more than one element is ambiguous. Use a.any() or a.all()"
     ]
    }
   ],
   "source": [
    "width = 0.1\n",
    "histmin = np.floor(r_numbers)\n",
    "histmax = np.ceil(r_numbers)\n",
    "\n",
    "bins = 1000\n",
    "\n",
    "plt.hist(r_numbers, bins=bins, alpha = 0.5, edgecolor = 'black')\n",
    "plt.xlabel('numbers')\n",
    "plt.ylabel('frequency')\n",
    "\n",
    "plt.show"
   ]
  }
 ],
 "metadata": {
  "kernelspec": {
   "display_name": "Python 3 (ipykernel)",
   "language": "python",
   "name": "python3"
  },
  "language_info": {
   "codemirror_mode": {
    "name": "ipython",
    "version": 3
   },
   "file_extension": ".py",
   "mimetype": "text/x-python",
   "name": "python",
   "nbconvert_exporter": "python",
   "pygments_lexer": "ipython3",
   "version": "3.13.2"
  }
 },
 "nbformat": 4,
 "nbformat_minor": 5
}
