{
 "cells": [
  {
   "cell_type": "code",
   "execution_count": 4,
   "id": "17230195-1117-4273-9fe6-0363f0babc0b",
   "metadata": {},
   "outputs": [],
   "source": [
    "import numpy as np\n",
    "import matplotlib.pyplot as plt"
   ]
  },
  {
   "cell_type": "code",
   "execution_count": 5,
   "id": "19ab617a-5399-4249-a35b-f04d642928b1",
   "metadata": {},
   "outputs": [],
   "source": [
    "x = np.linspace(0, 1, 100)"
   ]
  },
  {
   "cell_type": "code",
   "execution_count": 6,
   "id": "fc564ab3-d978-4a84-84bc-9cd62b5a689e",
   "metadata": {},
   "outputs": [],
   "source": [
    "def compute_x():\n",
    "    return np.exp(x)"
   ]
  },
  {
   "cell_type": "code",
   "execution_count": 7,
   "id": "9db26d34-19f4-4ac3-9f85-70b401c891cc",
   "metadata": {},
   "outputs": [
    {
     "ename": "TypeError",
     "evalue": "compute_x() takes 0 positional arguments but 1 was given",
     "output_type": "error",
     "traceback": [
      "\u001b[31m---------------------------------------------------------------------------\u001b[39m",
      "\u001b[31mTypeError\u001b[39m                                 Traceback (most recent call last)",
      "\u001b[36mCell\u001b[39m\u001b[36m \u001b[39m\u001b[32mIn[7]\u001b[39m\u001b[32m, line 1\u001b[39m\n\u001b[32m----> \u001b[39m\u001b[32m1\u001b[39m y = \u001b[43mcompute_x\u001b[49m\u001b[43m(\u001b[49m\u001b[43mx\u001b[49m\u001b[43m)\u001b[49m\n",
      "\u001b[31mTypeError\u001b[39m: compute_x() takes 0 positional arguments but 1 was given"
     ]
    }
   ],
   "source": [
    "y = np.exp(x)"
   ]
  },
  {
   "cell_type": "code",
   "execution_count": null,
   "id": "6b7fd95b-276c-4eb7-822a-915f542e8681",
   "metadata": {},
   "outputs": [],
   "source": [
    "plt.plot(x, y)\n",
    "plt.xlabel('Time [milliseconds]')\n",
    "plt.ylabel('Awesomeness')\n",
    "\n",
    "\n",
    "plt.savefig('awesomeness.pdf', bbox_inches='tight', dpi=600)\n",
    "\n",
    "plt.show()"
   ]
  }
 ],
 "metadata": {
  "kernelspec": {
   "display_name": "Python 3 (ipykernel)",
   "language": "python",
   "name": "python3"
  },
  "language_info": {
   "codemirror_mode": {
    "name": "ipython",
    "version": 3
   },
   "file_extension": ".py",
   "mimetype": "text/x-python",
   "name": "python",
   "nbconvert_exporter": "python",
   "pygments_lexer": "ipython3",
   "version": "3.13.2"
  }
 },
 "nbformat": 4,
 "nbformat_minor": 5
}
